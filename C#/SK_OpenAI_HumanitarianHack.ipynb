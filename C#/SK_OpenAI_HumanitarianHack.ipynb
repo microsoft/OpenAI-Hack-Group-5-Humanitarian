{
 "cells": [
  {
   "attachments": {},
   "cell_type": "markdown",
   "metadata": {
    "dotnet_interactive": {
     "language": "csharp"
    },
    "polyglot_notebook": {
     "kernelName": "csharp"
    }
   },
   "source": [
    "## Readme\n",
    "This notebook demonstrates our tool that can answer questions on WHO (World Health Organization) data. It takes in audio as input in the form of well structured questions and replies in accurate responses also in audio format. This is implemented using C# - and the Semantic Kernel SDK library.\n",
    "\n",
    "We present 3 different ways in which the data can be fed to the LLM model.\n",
    "1. In Tabular form\n",
    "2. In Sentence form\n",
    "3. Using the Data APIs directly"
   ]
  },
  {
   "cell_type": "code",
   "execution_count": 25,
   "metadata": {
    "dotnet_interactive": {
     "language": "csharp"
    },
    "polyglot_notebook": {
     "kernelName": "csharp"
    },
    "slideshow": {
     "slide_type": "slide"
    },
    "vscode": {
     "languageId": "polyglot-notebook"
    }
   },
   "outputs": [
    {
     "data": {
      "text/html": [
       "<div><div></div><div></div><div><strong>Installed Packages</strong><ul><li><span>Microsoft.CognitiveServices.Speech, 1.25.0</span></li><li><span>Microsoft.SemanticKernel, 0.7.182.1-preview</span></li></ul></div></div>"
      ]
     },
     "metadata": {},
     "output_type": "display_data"
    }
   ],
   "source": [
    "#r \"nuget: Microsoft.SemanticKernel, 0.7.182.1-preview\"\n",
    "#r \"nuget: Microsoft.CognitiveServices.Speech, 1.25.0\"\n",
    "\n",
    "using System.IO;\n",
    "using Microsoft.SemanticKernel;\n",
    "using Microsoft.SemanticKernel.CoreSkills;\n",
    "using Microsoft.SemanticKernel.KernelExtensions;\n",
    "using Microsoft.SemanticKernel.Orchestration;\n",
    "using Microsoft.CognitiveServices.Speech;\n",
    "using Microsoft.CognitiveServices.Speech.Audio;\n",
    "\n",
    "var yourOpenAiKey = \"<insert open-ai key>\";\n",
    "var yourSpeechKey = \"<insert speech key>\";\n",
    "var yourSpeechRegion = \"<insert speech region>\";"
   ]
  },
  {
   "attachments": {},
   "cell_type": "markdown",
   "metadata": {
    "dotnet_interactive": {
     "language": "csharp"
    },
    "polyglot_notebook": {
     "kernelName": "csharp"
    }
   },
   "source": [
    "**LLM Model selection and Kernel building**"
   ]
  },
  {
   "cell_type": "code",
   "execution_count": 26,
   "metadata": {
    "dotnet_interactive": {
     "language": "csharp"
    },
    "polyglot_notebook": {
     "kernelName": "csharp"
    },
    "vscode": {
     "languageId": "polyglot-notebook"
    }
   },
   "outputs": [],
   "source": [
    "var kernel = Kernel.Builder.Build();\n",
    "kernel.Config.AddOpenAICompletionBackend(\n",
    "    label: \"davinci\",                     \n",
    "    modelId: \"text-davinci-003\",                  \n",
    "    apiKey: yourOpenAiKey       \n",
    ");"
   ]
  },
  {
   "attachments": {},
   "cell_type": "markdown",
   "metadata": {
    "dotnet_interactive": {
     "language": "csharp"
    },
    "polyglot_notebook": {
     "kernelName": "csharp"
    }
   },
   "source": [
    "**Skill-set selection**"
   ]
  },
  {
   "cell_type": "code",
   "execution_count": 28,
   "metadata": {
    "dotnet_interactive": {
     "language": "csharp"
    },
    "polyglot_notebook": {
     "kernelName": "csharp"
    },
    "vscode": {
     "languageId": "polyglot-notebook"
    }
   },
   "outputs": [],
   "source": [
    "var skillsDirectory = System.IO.Directory.GetCurrentDirectory();\n",
    "\n",
    "var skill = kernel.ImportSemanticSkillFromDirectory(skillsDirectory, \"skills\");\n",
    "var context = new ContextVariables();"
   ]
  },
  {
   "attachments": {},
   "cell_type": "markdown",
   "metadata": {
    "dotnet_interactive": {
     "language": "csharp"
    },
    "polyglot_notebook": {
     "kernelName": "csharp"
    }
   },
   "source": [
    "### Use Case 1: Read data in tabular form\n",
    "\n",
    "In this use case we input the tabular data in the raw format i.e. tab separated columns."
   ]
  },
  {
   "cell_type": "code",
   "execution_count": 29,
   "metadata": {
    "dotnet_interactive": {
     "language": "csharp"
    },
    "polyglot_notebook": {
     "kernelName": "csharp"
    },
    "vscode": {
     "languageId": "polyglot-notebook"
    }
   },
   "outputs": [],
   "source": [
    "var dataset = @\"Country / Region\tDisease\t2021\t2020\t2019\t2018\t2017\t2016\t2015\t2014\t2013\t2012\t2011\t2010\t2009\t2008\t2007\t2006\t2005\t2004\t2003\t2002\t2001\t2000\n",
    "Global\tMumps\t\"\"234,082\"\"\t\"\"279,289\"\"\t\"\"169,799\"\"\t\"\"502,027\"\"\t\"\"560,784\"\"\t\"\"592,174\"\"\t\"\"385,781\"\"\t\"\"311,602\"\"\t\"\"516,316\"\"\t\"\"687,934\"\"\t\"\"726,638\"\"\t\"\"619,389\"\"\t\"\"546,684\"\"\t\"\"537,740\"\"\t\"\"407,873\"\"\t\"\"643,321\"\"\t\"\"619,062\"\"\t\"\"654,216\"\"\t\"\"334,524\"\"\t\"\"487,932\"\"\t\"\"412,341\"\"\t\"\"544,093\"\"\";\n",
    "\n",
    "context.Set(\"results\", dataset);"
   ]
  },
  {
   "attachments": {},
   "cell_type": "markdown",
   "metadata": {
    "dotnet_interactive": {
     "language": "csharp"
    },
    "polyglot_notebook": {
     "kernelName": "csharp"
    }
   },
   "source": [
    "**Take speech input and convert to text**"
   ]
  },
  {
   "cell_type": "code",
   "execution_count": 33,
   "metadata": {
    "dotnet_interactive": {
     "language": "csharp"
    },
    "polyglot_notebook": {
     "kernelName": "csharp"
    },
    "vscode": {
     "languageId": "polyglot-notebook"
    }
   },
   "outputs": [
    {
     "name": "stdout",
     "output_type": "stream",
     "text": [
      "Speak into your microphone.\n",
      "RECOGNIZED: Text=Which years are the maximum number of mumps diseases?\n"
     ]
    }
   ],
   "source": [
    "Console.WriteLine(\"Speak into your microphone.\");\n",
    "\n",
    "string speechKey = yourSpeechKey;\n",
    "string speechRegion = yourSpeechRegion;\n",
    "var speechConfig = SpeechConfig.FromSubscription(speechKey, speechRegion);        \n",
    "    speechConfig.SpeechRecognitionLanguage = \"en-US\";\n",
    "\n",
    "var audioConfig = AudioConfig.FromDefaultMicrophoneInput();\n",
    "var speechRecognizer = new SpeechRecognizer(speechConfig, audioConfig);\n",
    "var speechRecognitionResult = await speechRecognizer.RecognizeOnceAsync();\n",
    "OutputSpeechRecognitionResult(speechRecognitionResult);\n",
    "\n",
    "static void OutputSpeechRecognitionResult(SpeechRecognitionResult speechRecognitionResult)\n",
    "{\n",
    "    switch (speechRecognitionResult.Reason)\n",
    "    {\n",
    "        case ResultReason.RecognizedSpeech:\n",
    "            Console.WriteLine($\"RECOGNIZED: Text={speechRecognitionResult.Text}\");\n",
    "            break;\n",
    "        case ResultReason.NoMatch:\n",
    "            Console.WriteLine($\"NOMATCH: Speech could not be recognized.\");\n",
    "            break;\n",
    "        case ResultReason.Canceled:\n",
    "            var cancellation = CancellationDetails.FromResult(speechRecognitionResult);\n",
    "            Console.WriteLine($\"CANCELED: Reason={cancellation.Reason}\");\n",
    "\n",
    "            if (cancellation.Reason == CancellationReason.Error)\n",
    "            {\n",
    "                Console.WriteLine($\"CANCELED: ErrorCode={cancellation.ErrorCode}\");\n",
    "                Console.WriteLine($\"CANCELED: ErrorDetails={cancellation.ErrorDetails}\");\n",
    "                Console.WriteLine($\"CANCELED: Did you set the speech resource key and region values?\");\n",
    "            }\n",
    "            break;\n",
    "    }\n",
    "}"
   ]
  },
  {
   "attachments": {},
   "cell_type": "markdown",
   "metadata": {
    "dotnet_interactive": {
     "language": "csharp"
    },
    "polyglot_notebook": {
     "kernelName": "csharp"
    }
   },
   "source": [
    "**Feed query to LLM and convert result to speech**"
   ]
  },
  {
   "cell_type": "code",
   "execution_count": 34,
   "metadata": {
    "dotnet_interactive": {
     "language": "csharp"
    },
    "polyglot_notebook": {
     "kernelName": "csharp"
    },
    "vscode": {
     "languageId": "polyglot-notebook"
    }
   },
   "outputs": [
    {
     "name": "stdout",
     "output_type": "stream",
     "text": [
      " The maximum number of mumps diseases were reported in 2011 with 726,638 cases.\n",
      "Speech synthesized for text: [ The maximum number of mumps diseases were reported in 2011 with 726,638 cases.]\n"
     ]
    }
   ],
   "source": [
    "var input = speechRecognitionResult.Text;\n",
    "context.Set(\"input\", input);\n",
    "\n",
    "var result = await kernel.RunAsync(context, skill[\"QA_WHO_Skill\"]);\n",
    "Console.WriteLine(result);\n",
    "\n",
    "\n",
    "// Output: Text to Speech\n",
    "// The language of the voice that speaks.\n",
    "speechConfig.SpeechSynthesisVoiceName = \"en-US-JennyNeural\"; \n",
    "\n",
    "using (var speechSynthesizer = new SpeechSynthesizer(speechConfig))\n",
    "{\n",
    "    // Get text from the console and synthesize to the default speaker.\n",
    "    string text = result.ToString();\n",
    "\n",
    "    var speechSynthesisResult = await speechSynthesizer.SpeakTextAsync(text);\n",
    "    OutputSpeechSynthesisResult(speechSynthesisResult, text);\n",
    "}\n",
    "\n",
    "static void OutputSpeechSynthesisResult(SpeechSynthesisResult speechSynthesisResult, string text)\n",
    "    {\n",
    "        switch (speechSynthesisResult.Reason)\n",
    "        {\n",
    "            case ResultReason.SynthesizingAudioCompleted:\n",
    "                Console.WriteLine($\"Speech synthesized for text: [{text}]\");\n",
    "                break;\n",
    "            case ResultReason.Canceled:\n",
    "                var cancellation = SpeechSynthesisCancellationDetails.FromResult(speechSynthesisResult);\n",
    "                Console.WriteLine($\"CANCELED: Reason={cancellation.Reason}\");\n",
    "\n",
    "                if (cancellation.Reason == CancellationReason.Error)\n",
    "                {\n",
    "                    Console.WriteLine($\"CANCELED: ErrorCode={cancellation.ErrorCode}\");\n",
    "                    Console.WriteLine($\"CANCELED: ErrorDetails=[{cancellation.ErrorDetails}]\");\n",
    "                    Console.WriteLine($\"CANCELED: Did you set the speech resource key and region values?\");\n",
    "                }\n",
    "                break;\n",
    "            default:\n",
    "                break;\n",
    "        }\n",
    "    }"
   ]
  },
  {
   "attachments": {},
   "cell_type": "markdown",
   "metadata": {
    "dotnet_interactive": {
     "language": "csharp"
    },
    "polyglot_notebook": {
     "kernelName": "csharp"
    }
   },
   "source": [
    "### Use Case 2: Read data in text form\n",
    "In this use case we pass the sentences to the model.  "
   ]
  },
  {
   "cell_type": "code",
   "execution_count": 35,
   "metadata": {
    "dotnet_interactive": {
     "language": "csharp"
    },
    "polyglot_notebook": {
     "kernelName": "csharp"
    },
    "vscode": {
     "languageId": "polyglot-notebook"
    }
   },
   "outputs": [],
   "source": [
    "var dataset = @\"The Mortality rate for 5-14 year-olds (probability of dying per 1000 children aged 5-14 years) in Luxembourg for the Year 2019 is 0.38 with a lower bound of 0.25 and an upper bound of 0.57\n",
    "The Mortality rate for 5-14 year-olds (probability of dying per 1000 children aged 5-14 years) in Iceland for the Year 2019 is 0.48 with a lower bound of 0.32 and an upper bound of 0.7\n",
    "The Mortality rate for 5-14 year-olds (probability of dying per 1000 children aged 5-14 years) in San Marino for the Year 2019 is 0.51 with a lower bound of 0.4 and an upper bound of 0.65\n",
    "The Mortality rate for 5-14 year-olds (probability of dying per 1000 children aged 5-14 years) in Denmark for the Year 2019 is 0.58 with a lower bound of 0.52 and an upper bound of 0.67\n",
    "The Mortality rate for 5-14 year-olds (probability of dying per 1000 children aged 5-14 years) in Ireland for the Year 2019 is 0.61 with a lower bound of 0.5 and an upper bound of 0.71\";\n",
    "var context = new ContextVariables();\n",
    "context.Set(\"results\", dataset);\n"
   ]
  },
  {
   "cell_type": "code",
   "execution_count": 36,
   "metadata": {
    "dotnet_interactive": {
     "language": "csharp"
    },
    "polyglot_notebook": {
     "kernelName": "csharp"
    },
    "vscode": {
     "languageId": "polyglot-notebook"
    }
   },
   "outputs": [
    {
     "name": "stdout",
     "output_type": "stream",
     "text": [
      "Speak into your microphone.\n",
      "RECOGNIZED: Text=Which country has the highest mortality rate?\n",
      " Ireland has the highest mortality rate with a rate of 0.61 per 1000 children aged 5-14 years and a lower bound of 0.5 and an upper bound of 0.71.\n",
      "Speech synthesized for text: [ Ireland has the highest mortality rate with a rate of 0.61 per 1000 children aged 5-14 years and a lower bound of 0.5 and an upper bound of 0.71.]\n"
     ]
    }
   ],
   "source": [
    "Console.WriteLine(\"Speak into your microphone.\");\n",
    "var speechRecognitionResult = await speechRecognizer.RecognizeOnceAsync();\n",
    "OutputSpeechRecognitionResult(speechRecognitionResult);\n",
    "\n",
    "context.Set(\"input\", speechRecognitionResult.Text);\n",
    "\n",
    "var result = await kernel.RunAsync(context, skill[\"QA_WHO_Skill\"]);\n",
    "Console.WriteLine(result);\n",
    "\n",
    "// Text to Speech\n",
    "using (var speechSynthesizer = new SpeechSynthesizer(speechConfig))\n",
    "{\n",
    "    // Get text from the console and synthesize to the default speaker.\n",
    "    string text = result.ToString();\n",
    "\n",
    "    var speechSynthesisResult = await speechSynthesizer.SpeakTextAsync(text);\n",
    "    OutputSpeechSynthesisResult(speechSynthesisResult, text);\n",
    "}"
   ]
  },
  {
   "attachments": {},
   "cell_type": "markdown",
   "metadata": {
    "dotnet_interactive": {
     "language": "csharp"
    },
    "polyglot_notebook": {
     "kernelName": "csharp"
    }
   },
   "source": [
    "### Use Case 3: Read data from API\n",
    "In this use case we directly pass the WHO provided Data API"
   ]
  },
  {
   "cell_type": "code",
   "execution_count": 39,
   "metadata": {
    "dotnet_interactive": {
     "language": "csharp"
    },
    "polyglot_notebook": {
     "kernelName": "csharp"
    },
    "vscode": {
     "languageId": "polyglot-notebook"
    }
   },
   "outputs": [
    {
     "name": "stdout",
     "output_type": "stream",
     "text": [
      "Speak into your microphone.\n",
      "RECOGNIZED: Text=Give me some key insights from the API response.\n",
      "The API response provides information about three countries: Aruba, Afghanistan, and Angola. Each country is associated with a region, with Aruba being in the Americas, Afghanistan in the Eastern Mediterranean, and Angola in Africa.\n",
      "Speech synthesized for text: [The API response provides information about three countries: Aruba, Afghanistan, and Angola. Each country is associated with a region, with Aruba being in the Americas, Afghanistan in the Eastern Mediterranean, and Angola in Africa.]\n"
     ]
    }
   ],
   "source": [
    "var context = new ContextVariables();\n",
    "\n",
    "string skPrompt = @\"\n",
    "These are the results from the API call {{$api}}\n",
    "===RESULTS\n",
    "{{$results}}\n",
    "===END RESULTS\n",
    "\n",
    "{{$resultsContext}}\n",
    "\n",
    "Use the Results to answer the following query:\n",
    "\n",
    "Query: {{$input}}\n",
    "Answer:\n",
    "\";\n",
    "\n",
    "var api = \"https://ghoapi.azureedge.net/api/DIMENSION/COUNTRY/DimensionValues\";\n",
    "context.Set(\"api\", api);\n",
    "var results = \"{\\\"Code\\\":\\\"ABW\\\",\\\"Title\\\":\\\"Aruba\\\",\\\"Dimension\\\":\\\"COUNTRY\\\",\\\"ParentDimension\\\":\\\"REGION\\\",\\\"ParentCode\\\":\\\"AMR\\\",\\\"ParentTitle\\\":\\\"Americas\\\"},{\\\"Code\\\":\\\"AFG\\\",\\\"Title\\\":\\\"Afghanistan\\\",\\\"Dimension\\\":\\\"COUNTRY\\\",\\\"ParentDimension\\\":\\\"REGION\\\",\\\"ParentCode\\\":\\\"EMR\\\",\\\"ParentTitle\\\":\\\"Eastern Mediterranean\\\"},{\\\"Code\\\":\\\"AGO\\\",\\\"Title\\\":\\\"Angola\\\",\\\"Dimension\\\":\\\"COUNTRY\\\",\\\"ParentDimension\\\":\\\"REGION\\\",\\\"ParentCode\\\":\\\"AFR\\\",\\\"ParentTitle\\\":\\\"Africa\\\"}\";\n",
    "\n",
    "Console.WriteLine(\"Speak into your microphone.\");\n",
    "var speechRecognitionResult = await speechRecognizer.RecognizeOnceAsync();\n",
    "OutputSpeechRecognitionResult(speechRecognitionResult);\n",
    "\n",
    "context.Set(\"input\", speechRecognitionResult.Text);\n",
    "context.Set(\"results\", results);\n",
    "\n",
    "var qaFunction = kernel.CreateSemanticFunction(skPrompt, maxTokens: 200, temperature: 0, topP: 0.5);\n",
    "\n",
    "var answer = await kernel.RunAsync(\n",
    "    context,\n",
    "    qaFunction);\n",
    "    \n",
    "    Console.WriteLine(answer);\n",
    "\n",
    "    using (var speechSynthesizer = new SpeechSynthesizer(speechConfig))\n",
    "{\n",
    "    string text = answer.ToString();\n",
    "\n",
    "    var speechSynthesisResult = await speechSynthesizer.SpeakTextAsync(text);\n",
    "    OutputSpeechSynthesisResult(speechSynthesisResult, text);\n",
    "}"
   ]
  }
 ],
 "metadata": {
  "kernelspec": {
   "display_name": ".NET (C#)",
   "language": "C#",
   "name": ".net-csharp"
  },
  "polyglot_notebook": {
   "kernelInfo": {
    "defaultKernelName": "csharp",
    "items": [
     {
      "aliases": [
       "c#",
       "C#"
      ],
      "languageName": "C#",
      "name": "csharp"
     },
     {
      "aliases": [],
      "name": ".NET"
     },
     {
      "aliases": [
       "f#",
       "F#"
      ],
      "languageName": "F#",
      "name": "fsharp"
     },
     {
      "aliases": [],
      "languageName": "HTML",
      "name": "html"
     },
     {
      "aliases": [],
      "languageName": "KQL",
      "name": "kql"
     },
     {
      "aliases": [],
      "languageName": "Mermaid",
      "name": "mermaid"
     },
     {
      "aliases": [
       "powershell"
      ],
      "languageName": "PowerShell",
      "name": "pwsh"
     },
     {
      "aliases": [],
      "languageName": "SQL",
      "name": "sql"
     },
     {
      "aliases": [],
      "name": "value"
     },
     {
      "aliases": [
       "frontend"
      ],
      "name": "vscode"
     }
    ]
   }
  }
 },
 "nbformat": 4,
 "nbformat_minor": 2
}
